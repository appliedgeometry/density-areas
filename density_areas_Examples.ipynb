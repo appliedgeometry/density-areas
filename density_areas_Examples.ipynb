{
  "nbformat": 4,
  "nbformat_minor": 0,
  "metadata": {
    "colab": {
      "name": "density-areas_Examples.ipynb",
      "provenance": [],
      "collapsed_sections": [
        "cAzl8XDRmXez",
        "7AJknQL-1ZTn",
        "RunjYGgRiB9M",
        "HHthIFek3j1X",
        "_EhiDMZjySTV",
        "6T4eFBFWIgiD",
        "stTxaM3nIseg"
      ],
      "authorship_tag": "ABX9TyP+DQwkKdxgiUzWi0qtMM8H",
      "include_colab_link": true
    },
    "kernelspec": {
      "name": "python3",
      "display_name": "Python 3"
    }
  },
  "cells": [
    {
      "cell_type": "markdown",
      "metadata": {
        "id": "view-in-github",
        "colab_type": "text"
      },
      "source": [
        "<a href=\"https://colab.research.google.com/github/jcrpanta/density-areas/blob/main/density_areas_Examples.ipynb\" target=\"_parent\"><img src=\"https://colab.research.google.com/assets/colab-badge.svg\" alt=\"Open In Colab\"/></a>"
      ]
    },
    {
      "cell_type": "code",
      "metadata": {
        "id": "0eENXUnWUGiN"
      },
      "source": [
        "# Download the density_areas.py file\n",
        "!wget https://raw.githubusercontent.com/jcrpanta/density-areas/main/density_areas.py"
      ],
      "execution_count": null,
      "outputs": []
    },
    {
      "cell_type": "code",
      "metadata": {
        "id": "lKA6Vs9fVz6L"
      },
      "source": [
        "# Convert the density_areas.py file to a Python executable\n",
        "%load /content/density_areas.py"
      ],
      "execution_count": null,
      "outputs": []
    },
    {
      "cell_type": "code",
      "metadata": {
        "id": "_UZs_AwflGCB"
      },
      "source": [
        "# Install the numexpr module\n",
        "!pip install numexpr"
      ],
      "execution_count": null,
      "outputs": []
    },
    {
      "cell_type": "code",
      "metadata": {
        "id": "qPNHZpwcWEuc"
      },
      "source": [
        "# Import the density_areas file with alias da\n",
        "import density_areas as da"
      ],
      "execution_count": null,
      "outputs": []
    },
    {
      "cell_type": "markdown",
      "metadata": {
        "id": "cAzl8XDRmXez"
      },
      "source": [
        "# Poisson Brackets on $P^{\\infty}(\\mathbf{R}^{2})$\n"
      ]
    },
    {
      "cell_type": "markdown",
      "metadata": {
        "id": "7fdE7-Tzxjr7"
      },
      "source": [
        "Let $Q = (0,1) \\times (0,1)$ be the open unit square in $\\mathbf{R}^{2}$, and $\\pi_{\\tau}$ a Poisson bivector field on $Q$.\n",
        "\n",
        "Let $(x,y)$ be Cartesian coordinates on $Q$. Then $\\pi_{\\tau}$ has the following representation,\n",
        "\n",
        "\\begin{equation}\n",
        "    \\pi_{\\tau} = \\tau\\,\\frac{\\partial}{\\partial x} \\wedge \\frac{\\partial}{\\partial y}\n",
        "\\end{equation}\n",
        "\n",
        "for some conformal factor $\\tau \\in \\mathbf{C}^{\\infty}(Q)$. The space of absolutely continuous measures with a smooth positive density function on $Q$ is given by:\n",
        "\n",
        "\\begin{equation*}\n",
        "    P^{\\infty}(Q) = \\left\\{ \\rho\\,|\\mathrm{d}{x} \\wedge \\mathrm{d}{y}| \\ \\Big|\\ \\rho \\in \\mathbf{C}^{\\infty}(Q), \\rho > 0, \\int_{0}^{1}\\int_{0}^{1}\\rho\\,\\mathrm{d}{x}\\mathrm{d}{y} = 1 \\right\\}.\n",
        "\\end{equation*}\n",
        "\n",
        "The Poisson bracket induced by $\\pi_{\\tau}$ on $P^{\\infty}(Q)$, evaluated on two linear functionals $\\mathscr{F}_{f},\\mathscr{F}_{h} \\in \\mathbf{C}^{\\infty}(P^{\\infty}(Q))$ and at a measure $\\mu_{\\rho} \\in P^{\\infty}(Q)$ is given by:\n",
        "\n",
        "\\begin{equation}\n",
        "    \\{\\mathscr{F}_{f}, \\mathscr{F}_{h}\\}(\\mu_{\\rho}) = \\int_{0}^{1}\\int_{0}^{1} \\left( \\frac{\\partial f}{\\partial x} \\frac{\\partial h}{\\partial y} - \\frac{\\partial h}{\\partial x} \\frac{\\partial f}{\\partial y} \\right) \\tau\\rho\\,\\mathrm{d}x\\mathrm{d}y.\n",
        "\\end{equation}"
      ]
    },
    {
      "cell_type": "markdown",
      "metadata": {
        "id": "7AJknQL-1ZTn"
      },
      "source": [
        "## Examples"
      ]
    },
    {
      "cell_type": "markdown",
      "metadata": {
        "id": "zHXfobRTfIbg"
      },
      "source": [
        "**Example**\n",
        "\n",
        "$$ \\rho = 1$$"
      ]
    },
    {
      "cell_type": "code",
      "metadata": {
        "id": "uznWEG68WEjZ"
      },
      "source": [
        "da.PoissonWasserstein_R2(1, 1, 'x1', 'x2')"
      ],
      "execution_count": null,
      "outputs": []
    },
    {
      "cell_type": "code",
      "metadata": {
        "id": "hS2nAg1MhKFr"
      },
      "source": [
        "da.PoissonWasserstein_R2(1, 1, 'x1', 'x2', numerical=True)"
      ],
      "execution_count": null,
      "outputs": []
    },
    {
      "cell_type": "code",
      "metadata": {
        "id": "0MJQUuBIAXPb"
      },
      "source": [
        "da.PoissonWasserstein_R2(1, 1, 'a1*x1 + b*x2', 'c*x1 + d*x2')"
      ],
      "execution_count": null,
      "outputs": []
    },
    {
      "cell_type": "markdown",
      "metadata": {
        "id": "ewborRwthslv"
      },
      "source": [
        "**Example**\n",
        "\n",
        "$$ \\rho = \\tfrac{3}{2}(x_{1}^{2} + x_{2}^{2}) $$"
      ]
    },
    {
      "cell_type": "code",
      "metadata": {
        "id": "OE_gsYZYlI9i"
      },
      "source": [
        "tau = 1\n",
        "rho = '(3/2) * (x1**2 + x2**2)'\n",
        "\n",
        "da.PoissonWasserstein_R2(1, rho, 'x1', 'x2')"
      ],
      "execution_count": null,
      "outputs": []
    },
    {
      "cell_type": "code",
      "metadata": {
        "id": "BUXyWq5iWJBr"
      },
      "source": [
        "da.PoissonWasserstein_R2(1, rho, 'x1 + x2', 'x1**2 - x2**2')"
      ],
      "execution_count": null,
      "outputs": []
    },
    {
      "cell_type": "code",
      "metadata": {
        "id": "qx9NNlF-tLTU"
      },
      "source": [
        "da.PoissonWasserstein_R2(1, rho, 'x1 + x2', 'x1**2 - x2**2', numerical=True)"
      ],
      "execution_count": null,
      "outputs": []
    },
    {
      "cell_type": "code",
      "metadata": {
        "id": "0OD7_HlpsvVC"
      },
      "source": [
        "#PoissonWasserstein_R2(tau, rho, FF, GG)"
      ],
      "execution_count": null,
      "outputs": []
    },
    {
      "cell_type": "code",
      "metadata": {
        "id": "I7CqgaB2WjRt"
      },
      "source": [
        "import sympy as sym"
      ],
      "execution_count": null,
      "outputs": []
    },
    {
      "cell_type": "code",
      "metadata": {
        "id": "mKF3IaWgUacP"
      },
      "source": [
        "sym.trigsimp(da.PoissonWasserstein_R2(1, rho, 'sin(x1)', 'sin(x2)'))"
      ],
      "execution_count": null,
      "outputs": []
    },
    {
      "cell_type": "code",
      "metadata": {
        "id": "i6up7sWPbWfE"
      },
      "source": [
        "da.PoissonWasserstein_R2(1, rho, 'sin(x1)', 'sin(x2)', numerical=True)"
      ],
      "execution_count": null,
      "outputs": []
    },
    {
      "cell_type": "markdown",
      "metadata": {
        "id": "GXQWW95YmXfP"
      },
      "source": [
        "**Example**\n",
        "\n",
        "$$ \\rho = \\tfrac{2}{c\\pi}e^{-\\frac{1}{2}(x^{2} + y^{2})} $$"
      ]
    },
    {
      "cell_type": "code",
      "metadata": {
        "id": "8sc1nmlXb66o"
      },
      "source": [
        "tau = 1\n",
        "rho = '2/(pi * erf(sqrt(2)/2)**2) * exp((-1/2) * (x1**2 + x2**2))'\n",
        "\n",
        "da.PoissonWasserstein_R2(tau, rho, 'x1', 'x2')"
      ],
      "execution_count": null,
      "outputs": []
    },
    {
      "cell_type": "code",
      "metadata": {
        "id": "J1gLGZzHycLZ"
      },
      "source": [
        "FF = 'sin(x1)'\n",
        "GG = 'cos(x1)'\n",
        "\n",
        "da.PoissonWasserstein_R2(tau, rho, FF, GG)"
      ],
      "execution_count": null,
      "outputs": []
    },
    {
      "cell_type": "code",
      "metadata": {
        "id": "f7aj-qUHkHOJ"
      },
      "source": [
        "da.PoissonWasserstein_R2(tau, rho, FF, GG, numerical=True)"
      ],
      "execution_count": null,
      "outputs": []
    },
    {
      "cell_type": "code",
      "metadata": {
        "id": "QeEOZc4BclDr"
      },
      "source": [
        "FF = 'x1**2'\n",
        "GG = 'x2**2'\n",
        "\n",
        "sym.factor(da.PoissonWasserstein_R2(tau, rho, FF, GG))"
      ],
      "execution_count": null,
      "outputs": []
    },
    {
      "cell_type": "code",
      "metadata": {
        "id": "-lP-HC5_f3h_"
      },
      "source": [
        "aa = 0.4660649426743922\n",
        "rho = f'2/(pi * {aa}) * exp((-1/2) * (x1**2 + x2**2))'\n",
        "rho"
      ],
      "execution_count": null,
      "outputs": []
    },
    {
      "cell_type": "code",
      "metadata": {
        "id": "2zDdSl0BfoQv"
      },
      "source": [
        "da.PoissonWasserstein_R2(tau, rho, FF, GG, numerical=True)"
      ],
      "execution_count": null,
      "outputs": []
    },
    {
      "cell_type": "markdown",
      "metadata": {
        "id": "RunjYGgRiB9M"
      },
      "source": [
        "# Poisson Brackets on $P^{\\infty}(\\mathbf{T}^{2})$"
      ]
    },
    {
      "cell_type": "markdown",
      "metadata": {
        "id": "JF3ox1kr1qX4"
      },
      "source": [
        "Let $\\mathbf{T}^{2}$ be the 2-torus, and $\\pi_{\\tau}$ a Poisson bivector field on $\\mathbf{T}^{2}$.\n",
        "\n",
        "Let $(\\theta_{1}, \\theta_{2})$ be natural coordinates on $\\mathbf{T}^{2} \\simeq \\mathbf{S}^{1} \\times \\mathbf{S}^{1}$, with $\\theta_{1}, \\theta_{2} \\in \\mathbf{R}/2\\pi\\mathbf{Z}$. Then $\\pi_{\\tau}$ has the following representation,\n",
        "\n",
        "\\begin{equation}\n",
        "    \\pi_{\\tau} = \\tau\\,\\frac{\\partial}{\\partial \\theta_{1}} \\wedge \\frac{\\partial}{\\partial \\theta_{2}}\n",
        "\\end{equation}\n",
        "\n",
        "for some conformal factor $\\tau \\in \\mathbf{C}^{\\infty}(\\mathbf{T}^{2})$. The space of absolutely continuous measures with a smooth positive density function on $\\mathbf{T}^{2}$ is given by:\n",
        "\n",
        "\\begin{equation*}\n",
        "    P^{\\infty}(\\mathbf{T}^{2}) = \\left\\{ \\rho\\,|\\mathrm{d}{\\theta_{1}} \\wedge \\mathrm{d}{\\theta_{2}}| \\ \\Big|\\ \\rho \\in \\mathbf{C}^{\\infty}(\\mathbf{T}^{2}), \\rho > 0, \\frac{1}{4\\pi^{2}}\\int_{0}^{2\\pi}\\int_{0}^{2\\pi}\\rho\\,\\mathrm{d}{\\theta_{1}}\\mathrm{d}{\\theta_{2}} = 1 \\right\\}.\n",
        "\\end{equation*}\n",
        "\n",
        "The Poisson bracket induced by $\\pi_{\\tau}$ on $P^{\\infty}(\\mathbf{T}^{2})$, evaluated on two linear functionals $\\mathscr{F}_{f},\\mathscr{F}_{h} \\in \\mathbf{C}^{\\infty}(P^{\\infty}(\\mathbf{T}^{2}))$ and at a measure $\\mu_{\\rho} \\in P^{\\infty}(\\mathbf{T}^{2})$ is given by:\n",
        "\n",
        "\\begin{equation}\n",
        "    \\{\\mathscr{F}_{f}, \\mathscr{F}_{h}\\}(\\mu_{\\rho}) = \\frac{1}{4\\pi^{2}}\\int_{0}^{2\\pi}\\int_{0}^{2\\pi} \\left( \\frac{\\partial f}{\\partial \\theta_{1}} \\frac{\\partial h}{\\partial \\theta_{2}} - \\frac{\\partial h}{\\partial \\theta_{1}} \\frac{\\partial f}{\\partial \\theta_{2}} \\right) \\tau\\rho\\,\\mathrm{d}\\theta_{1}\\mathrm{d}\\theta_{2}.\n",
        "\\end{equation}"
      ]
    },
    {
      "cell_type": "markdown",
      "metadata": {
        "id": "HHthIFek3j1X"
      },
      "source": [
        "## Examples"
      ]
    },
    {
      "cell_type": "markdown",
      "metadata": {
        "id": "kEQLTqAQiB9h"
      },
      "source": [
        "**Example**\n",
        "\n",
        "$$ \\rho = 1 $$"
      ]
    },
    {
      "cell_type": "code",
      "metadata": {
        "id": "HL9gqph6OAlC"
      },
      "source": [
        "da.PoissonWasserstein_T2(1, '1', 'theta1', 'theta2')"
      ],
      "execution_count": null,
      "outputs": []
    },
    {
      "cell_type": "code",
      "metadata": {
        "id": "IXBL2XIAiB9h"
      },
      "source": [
        "da.PoissonWasserstein_T2(1, '1', 'theta1', 'theta2', numerical=True)"
      ],
      "execution_count": null,
      "outputs": []
    },
    {
      "cell_type": "markdown",
      "metadata": {
        "id": "ntX4C_9iU0T_"
      },
      "source": [
        "**Example**\n",
        "\n",
        "$$ \\rho = \\tfrac{1}{2} \\big( \\cos\\theta_1 + \\cos\\theta_2 + 2 \\big)$$"
      ]
    },
    {
      "cell_type": "code",
      "metadata": {
        "id": "igXkk0LWVOI5"
      },
      "source": [
        "tau = 1\n",
        "rho = '1/2 * (cos(theta1) + cos(theta2) + 2)'\n",
        "\n",
        "da.PoissonWasserstein_T2(tau, rho, 'theta1', 'theta2')"
      ],
      "execution_count": null,
      "outputs": []
    },
    {
      "cell_type": "code",
      "metadata": {
        "id": "kZxM7LA4W4Lb"
      },
      "source": [
        "FF = 'theta1**2'\n",
        "GG = 'theta2**2'\n",
        "\n",
        "da.PoissonWasserstein_T2(tau, rho, FF, GG)"
      ],
      "execution_count": null,
      "outputs": []
    },
    {
      "cell_type": "code",
      "metadata": {
        "id": "1qHiOGxPlJxN"
      },
      "source": [
        "da.PoissonWasserstein_T2(tau, rho, FF, GG, numerical=True)"
      ],
      "execution_count": null,
      "outputs": []
    },
    {
      "cell_type": "code",
      "metadata": {
        "id": "kR9RwaoWu3-N"
      },
      "source": [
        "FF = 'exp(theta1)'\n",
        "GG = 'exp(theta2)'\n",
        "\n",
        "sym.factor(da.PoissonWasserstein_T2(tau, rho, FF, GG))"
      ],
      "execution_count": null,
      "outputs": []
    },
    {
      "cell_type": "code",
      "metadata": {
        "id": "d97HkedQwT_d"
      },
      "source": [
        "da.PoissonWasserstein_T2(tau, rho, FF, GG, numerical=True)"
      ],
      "execution_count": null,
      "outputs": []
    },
    {
      "cell_type": "markdown",
      "metadata": {
        "id": "i6NB8FZSiB9j"
      },
      "source": [
        "**Example**\n",
        "\n",
        "$$ \\rho = \\tfrac{1}{c} e^{\\cos(\\theta_1) + \\cos(\\theta_2)}$$"
      ]
    },
    {
      "cell_type": "code",
      "metadata": {
        "id": "UhXkqptxiB9j"
      },
      "source": [
        "tau = 1\n",
        "rho = 'exp(cos(theta1) + cos(theta2))'"
      ],
      "execution_count": null,
      "outputs": []
    },
    {
      "cell_type": "code",
      "metadata": {
        "id": "8MRk3S-FSzSO"
      },
      "source": [
        "#CC = PoissonWasserstein_T2(tau, rho, 'theta1', 'theta2')\n",
        "#CC"
      ],
      "execution_count": null,
      "outputs": []
    },
    {
      "cell_type": "code",
      "metadata": {
        "id": "ZDkVPKSaPJt7"
      },
      "source": [
        "#CC2 = 1/CC\n",
        "\n",
        "#rho = f'{CC2} * exp(cos(theta1) + cos(theta2))'\n",
        "#FF = 'theta1**2'\n",
        "#GG = 'theta2**2'\n",
        "\n",
        "#PoissonWasserstein_T2(tau, rho, FF, GG)"
      ],
      "execution_count": null,
      "outputs": []
    },
    {
      "cell_type": "code",
      "metadata": {
        "id": "hMAUzMwkyTTz"
      },
      "source": [
        "#CC2 = 1/CC\n",
        "\n",
        "#rho = f'{CC2} * exp(cos(theta1) + cos(theta2))'\n",
        "#FF = 'theta1'\n",
        "#GG = 'theta2'\n",
        "\n",
        "#PoissonWasserstein_T2(tau, rho, FF, GG)"
      ],
      "execution_count": null,
      "outputs": []
    },
    {
      "cell_type": "code",
      "metadata": {
        "id": "i5lGK1O5SVik"
      },
      "source": [
        "CCnum = da.PoissonWasserstein_T2(tau, 'exp(cos(theta1) + cos(theta2))', 'theta1', 'theta2', numerical=True)\n",
        "CC3 = 1 / CCnum[0]\n",
        "CC3, CCnum[1]"
      ],
      "execution_count": null,
      "outputs": []
    },
    {
      "cell_type": "code",
      "metadata": {
        "id": "eDgF3xDgmJDO"
      },
      "source": [
        "rho = f'{CC3} * exp(cos(theta1) + cos(theta2))'\n",
        "FF = 'theta1**2'\n",
        "GG = 'theta2**2'\n",
        "\n",
        "da.PoissonWasserstein_T2(tau, rho, FF, GG, numerical=True)"
      ],
      "execution_count": null,
      "outputs": []
    },
    {
      "cell_type": "code",
      "metadata": {
        "id": "q2hqeS6fyK4A"
      },
      "source": [
        "rho = f'{CC3} * exp(cos(theta1) + cos(theta2))'\n",
        "FF = 'theta1'\n",
        "GG = 'theta2'\n",
        "\n",
        "da.PoissonWasserstein_T2(tau, rho, FF, GG, numerical=True)"
      ],
      "execution_count": null,
      "outputs": []
    },
    {
      "cell_type": "markdown",
      "metadata": {
        "id": "_EhiDMZjySTV"
      },
      "source": [
        "# Poisson Brackets on $P^{\\infty}(\\mathbf{S}^{2})$"
      ]
    },
    {
      "cell_type": "markdown",
      "metadata": {
        "id": "Slz6FRe98lSp"
      },
      "source": [
        "Let $\\mathbf{S}^{2}$ be the 2-sphere, and $\\pi_{\\tau}$ a Poisson bivector field on $\\mathbf{S}^{2}$.\n",
        "\n",
        "Let $(\\theta,\\phi) \\in (0,\\pi) \\times (0,2\\pi)$ be spherical coordinates on $\\mathbf{S}^{2}$ such that $ (\\theta, \\phi) \\mapsto (\\sin{\\theta}\\cos{\\phi}, \\sin{\\theta}\\sin{\\phi}, \\cos{\\theta})$. Then $\\pi_{\\tau}$ has the following representation,\n",
        "\n",
        "\\begin{equation}\n",
        "    \\pi_{\\tau} = \\frac{\\tau}{\\sin{\\theta}}\\frac{\\partial}{\\partial \\theta} \\wedge \\frac{\\partial}{\\partial \\phi}\n",
        "\\end{equation}\n",
        "\n",
        "for some conformal factor $\\tau \\in \\mathbf{C}^{\\infty}(\\mathbf{S}^{2})$. The space of absolutely continuous measures with a smooth positive density function on $\\mathbf{S}^{2}$ is given by:\n",
        "\n",
        "\\begin{equation*}\n",
        "    P^{\\infty}(\\mathbf{S}^{2}) = \\left\\{ \\rho\\sin{\\theta}\\,|\\mathrm{d}{\\theta} \\wedge \\mathrm{d}{\\phi}| \\ \\Big|\\ \\rho \\in \\mathbf{C}^{\\infty}(\\mathbf{S}^{2}), \\rho > 0, \\frac{1}{4\\pi}\\int_{0}^{2\\pi}\\int_{0}^{\\pi}\\rho\\sin{\\theta}\\,\\mathrm{d}{\\theta}\\mathrm{d}{\\phi} = 1 \\right\\}.\n",
        "\\end{equation*}\n",
        "\n",
        "The Poisson bracket induced by $\\pi_{\\tau}$ on $P^{\\infty}(\\mathbf{S}^{2})$, evaluated on two linear functionals $\\mathscr{F}_{f},\\mathscr{F}_{h} \\in \\mathbf{C}^{\\infty}(P^{\\infty}(\\mathbf{S}^{2}))$ and at a measure $\\mu_{\\rho} \\in P^{\\infty}(\\mathbf{S}^{2})$ is given by:\n",
        "\n",
        "\\begin{equation}\n",
        "    \\{\\mathscr{F}_{f}, \\mathscr{F}_{h}\\}(\\mu_{\\rho}) = \\frac{1}{4\\pi}\\int_{0}^{2\\pi}\\int_{0}^{\\pi} \\left( \\frac{\\partial f}{\\partial \\theta} \\frac{\\partial h}{\\partial \\phi} - \\frac{\\partial h}{\\partial \\theta} \\frac{\\partial f}{\\partial \\phi} \\right) \\tau\\rho\\sin{\\theta}\\,\\mathrm{d}\\theta\\mathrm{d}\\theta{\\phi}.\n",
        "\\end{equation}"
      ]
    },
    {
      "cell_type": "markdown",
      "metadata": {
        "id": "6T4eFBFWIgiD"
      },
      "source": [
        "## Examples"
      ]
    },
    {
      "cell_type": "markdown",
      "metadata": {
        "id": "RWpyy7VtRuU-"
      },
      "source": [
        "**Example**\n",
        "\n",
        "$$ \\rho = 1 $$"
      ]
    },
    {
      "cell_type": "code",
      "metadata": {
        "id": "ZmI86WwPMQPP"
      },
      "source": [
        "da.PoissonWasserstein_S2(1, '1', 'theta', 'phi', numerical=True)"
      ],
      "execution_count": null,
      "outputs": []
    },
    {
      "cell_type": "code",
      "metadata": {
        "id": "JafpMAP9zoXC"
      },
      "source": [
        "da.PoissonWasserstein_S2(1, '1', 'theta', 'phi')"
      ],
      "execution_count": null,
      "outputs": []
    },
    {
      "cell_type": "markdown",
      "metadata": {
        "id": "_epddwbKRhEo"
      },
      "source": [
        "**Example**\n",
        "\n",
        "$$ \\rho = \\frac{2\\sin{\\theta}}{\\pi(1 - \\cos{\\theta})}$$"
      ]
    },
    {
      "cell_type": "code",
      "metadata": {
        "id": "XLDy0xXcy1Ni"
      },
      "source": [
        "tau = 1\n",
        "rho = '2*sin(theta) / (pi*(1 - cos(theta)))'"
      ],
      "execution_count": null,
      "outputs": []
    },
    {
      "cell_type": "code",
      "metadata": {
        "id": "6Y7wEHlRQVgo"
      },
      "source": [
        "FF = 'sqrt(3/(4*pi)) * sin(theta)*sin(phi)'\n",
        "GG = 'sqrt(3/(4*pi)) * sin(theta)*cos(phi)'\n",
        "\n",
        "da.PoissonWasserstein_S2(tau, rho, FF, GG, numerical=True)"
      ],
      "execution_count": null,
      "outputs": []
    },
    {
      "cell_type": "code",
      "metadata": {
        "id": "xJfI8Pk4zQiO"
      },
      "source": [
        "FF = 'sqrt(5/(16*pi)) * (3*cos(theta)**2 - 1)'\n",
        "GG = 'sqrt(15/(16*pi)) * sin(theta)**2 * (cos(phi)**2 - sin(phi)**2)'\n",
        "\n",
        "da.PoissonWasserstein_S2(tau, rho, FF, GG, numerical=True)"
      ],
      "execution_count": null,
      "outputs": []
    },
    {
      "cell_type": "code",
      "metadata": {
        "id": "TXRIdLYvrZoI"
      },
      "source": [
        "#PoissonWasserstein_S2(tau, rho, FF, GG)"
      ],
      "execution_count": null,
      "outputs": []
    },
    {
      "cell_type": "markdown",
      "metadata": {
        "id": "2Nr3W5mAYFKu"
      },
      "source": [
        "**Example**\n",
        "\n",
        "$$ \\rho = \\tfrac{1}{0.12049632702243548\\,\\pi}e^{\\frac{\\sin{\\theta}}{\\cos{\\theta} - 1}} $$"
      ]
    },
    {
      "cell_type": "code",
      "metadata": {
        "id": "kL8tHa2o3W_0"
      },
      "source": [
        "tau = 1\n",
        "rho = '1/(0.12049632702243548 * pi) * exp(sin(theta) / (cos(theta)-1))'"
      ],
      "execution_count": null,
      "outputs": []
    },
    {
      "cell_type": "code",
      "metadata": {
        "id": "r1meGeKNNGvD"
      },
      "source": [
        "FF = 'sqrt(3/(4*pi)) * sin(theta)*sin(phi)'\n",
        "GG = 'sqrt(3/(4*pi)) * sin(theta)*cos(phi)'\n",
        "\n",
        "da.PoissonWasserstein_S2(tau, rho, FF, GG, numerical=True)"
      ],
      "execution_count": null,
      "outputs": []
    },
    {
      "cell_type": "code",
      "metadata": {
        "id": "dLTYkYGC3qtU"
      },
      "source": [
        "FF = 'sqrt(5/(16*pi)) * (3*cos(theta)**2 - 1)'\n",
        "GG = 'sqrt(15/(16*pi)) * sin(theta)**2 * (cos(phi)**2 - sin(phi)**2)'\n",
        "\n",
        "da.PoissonWasserstein_S2(tau, rho, FF, GG, numerical=True)"
      ],
      "execution_count": null,
      "outputs": []
    },
    {
      "cell_type": "code",
      "metadata": {
        "id": "vN-2P_Xx2_Vm"
      },
      "source": [
        "#PoissonWasserstein_S2(tau, rho, FF, GG)"
      ],
      "execution_count": null,
      "outputs": []
    },
    {
      "cell_type": "code",
      "metadata": {
        "id": "uF5L7RBiRnky"
      },
      "source": [
        "tau = 1\n",
        "rho = 'exp(-(sin(theta) / (1 - cos(theta)))**2)'"
      ],
      "execution_count": null,
      "outputs": []
    },
    {
      "cell_type": "code",
      "metadata": {
        "id": "FqDOVeI1RzV9"
      },
      "source": [
        "da.PoissonWasserstein_S2(tau, rho, 'theta', 'phi', numerical=True)"
      ],
      "execution_count": null,
      "outputs": []
    },
    {
      "cell_type": "markdown",
      "metadata": {
        "id": "stTxaM3nIseg"
      },
      "source": [
        "# Areas of smooth measures on $\\mathbf{S}^{2}$"
      ]
    },
    {
      "cell_type": "markdown",
      "metadata": {
        "id": "1cMxjhWTJH8B"
      },
      "source": [
        "Let $(\\theta,\\phi) \\in (0,\\pi) \\times (0,2\\pi)$ be spherical coordinates on the 2-sphere $\\mathbf{S}^{2}$ such that $ (\\theta, \\phi) \\mapsto (\\sin{\\theta}\\cos{\\phi}, \\sin{\\theta}\\sin{\\phi}, \\cos{\\theta})$.\n",
        "\n",
        "Consider $(\\mathbf{S}^{2}, \\pi_{0} = \\frac{1}{\\sin{\\theta}}\\frac{\\partial}{\\partial \\theta} \\wedge \\frac{\\partial}{\\partial \\phi})$ and a measure $\\mu_{\\rho} \\in P^{\\infty}(\\mathbf{S}^{2})$. Let the maps $T_{s},R_{t}: \\mathbf{S}^{2} \\to \\mathbf{S}^{2}$ be generated by flows of hamiltonian vector fields on $\\mathbf{S}^{2}$ with $s \\in I_{1} \\subset (0,\\pi)$ and $t \\in I_{2} \\subset (0,2\\pi)$.\n",
        "\n",
        "\n",
        "The symplectic area  $A_{\\mu_{\\rho}}(\\Omega)$ of the finite region $\\Omega := (T_{s} \\circ R_{t})^{\\ast}\\mu_{\\rho}$ on $P^{\\infty}(\\mathbf{S}^{2})$ can be calculated by\n",
        "\n",
        "\\begin{align}\n",
        "    A_{\\mu_{\\rho}}(\\Omega) &= \\frac{1}{4\\pi}\\int_{I_{2}}\\int_{I_{1}}\\int_{0}^{2\\pi}\\int_{0}^{\\pi} (T_{s} \\circ R_{t})^{\\ast}\\rho \\,\\mathrm{d}{\\theta}\\mathrm{d}{\\phi}\\mathrm{d}{s}\\mathrm{d}{t}\n",
        "\\end{align}"
      ]
    },
    {
      "cell_type": "markdown",
      "metadata": {
        "id": "upbheyYVgRSm"
      },
      "source": [
        "## Example"
      ]
    },
    {
      "cell_type": "code",
      "metadata": {
        "id": "OW5ESvJJlo_X"
      },
      "source": [
        "import numpy as np"
      ],
      "execution_count": null,
      "outputs": []
    },
    {
      "cell_type": "code",
      "metadata": {
        "id": "_9GLvrPQhHjt"
      },
      "source": [
        "I_1 = [np.pi/4, 3*np.pi/4]\n",
        "I_2 = [np.pi/4, 3*np.pi/4]\n",
        "\n",
        "da.area_Omega_S2(\"sin(theta) * cos(phi)\", I_1, I_2)"
      ],
      "execution_count": null,
      "outputs": []
    }
  ]
}