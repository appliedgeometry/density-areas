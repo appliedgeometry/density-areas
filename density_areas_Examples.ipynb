{
  "nbformat": 4,
  "nbformat_minor": 0,
  "metadata": {
    "colab": {
      "name": "density-areas_Examples.ipynb",
      "provenance": [],
      "collapsed_sections": [
        "cAzl8XDRmXez",
        "7AJknQL-1ZTn",
        "RunjYGgRiB9M",
        "HHthIFek3j1X",
        "_EhiDMZjySTV",
        "6T4eFBFWIgiD",
        "stTxaM3nIseg"
      ],
      "authorship_tag": "ABX9TyP+DQwkKdxgiUzWi0qtMM8H",
      "include_colab_link": true
    },
    "kernelspec": {
      "name": "python3",
      "display_name": "Python 3"
    }
  },
  "cells": [
    {
      "cell_type": "markdown",
      "metadata": {
        "id": "view-in-github",
        "colab_type": "text"
      },
      "source": [
        "<a href=\"https://colab.research.google.com/github/jcrpanta/density-areas/blob/main/density_areas_Examples.ipynb\" target=\"_parent\"><img src=\"https://colab.research.google.com/assets/colab-badge.svg\" alt=\"Open In Colab\"/></a>"
      ]
    },
    {
      "cell_type": "code",
      "metadata": {
        "colab": {
          "base_uri": "https://localhost:8080/"
        },
        "id": "0eENXUnWUGiN",
        "outputId": "29ca65cd-9863-43f0-ca6b-6e3d25f30450"
      },
      "source": [
        "# Download the density_areas.py file\n",
        "!wget https://raw.githubusercontent.com/jcrpanta/density-areas/main/density_areas.py"
      ],
      "execution_count": 1,
      "outputs": [
        {
          "output_type": "stream",
          "text": [
            "--2021-03-20 03:07:23--  https://raw.githubusercontent.com/jcrpanta/density-areas/main/density_areas.py\n",
            "Resolving raw.githubusercontent.com (raw.githubusercontent.com)... 185.199.108.133, 185.199.109.133, 185.199.110.133, ...\n",
            "Connecting to raw.githubusercontent.com (raw.githubusercontent.com)|185.199.108.133|:443... connected.\n",
            "HTTP request sent, awaiting response... 200 OK\n",
            "Length: 12873 (13K) [text/plain]\n",
            "Saving to: ‘density_areas.py’\n",
            "\n",
            "density_areas.py    100%[===================>]  12.57K  --.-KB/s    in 0s      \n",
            "\n",
            "2021-03-20 03:07:23 (56.8 MB/s) - ‘density_areas.py’ saved [12873/12873]\n",
            "\n"
          ],
          "name": "stdout"
        }
      ]
    },
    {
      "cell_type": "code",
      "metadata": {
        "id": "lKA6Vs9fVz6L"
      },
      "source": [
        "# Convert the density_areas.py file to a Python executable\n",
        "%load /content/density_areas.py"
      ],
      "execution_count": 2,
      "outputs": []
    },
    {
      "cell_type": "code",
      "metadata": {
        "colab": {
          "base_uri": "https://localhost:8080/"
        },
        "id": "_UZs_AwflGCB",
        "outputId": "897183d5-fb84-427c-d263-9a0cb9316dac"
      },
      "source": [
        "# Install the numexpr module\n",
        "!pip install numexpr"
      ],
      "execution_count": 50,
      "outputs": [
        {
          "output_type": "stream",
          "text": [
            "Requirement already satisfied: numexpr in /usr/local/lib/python3.7/dist-packages (2.7.3)\n",
            "Requirement already satisfied: numpy>=1.7 in /usr/local/lib/python3.7/dist-packages (from numexpr) (1.19.5)\n"
          ],
          "name": "stdout"
        }
      ]
    },
    {
      "cell_type": "code",
      "metadata": {
        "id": "qPNHZpwcWEuc"
      },
      "source": [
        "# Import the density_areas file with alias da\n",
        "import density_areas as da"
      ],
      "execution_count": 4,
      "outputs": []
    },
    {
      "cell_type": "markdown",
      "metadata": {
        "id": "cAzl8XDRmXez"
      },
      "source": [
        "# Poisson Brackets on $P^{\\infty}(\\mathbf{R}^{2})$\n"
      ]
    },
    {
      "cell_type": "markdown",
      "metadata": {
        "id": "7fdE7-Tzxjr7"
      },
      "source": [
        "Let $Q = (0,1) \\times (0,1)$ be the open unit square in $\\mathbf{R}^{2}$, and $\\pi_{\\tau}$ a Poisson bivector field on $Q$.\n",
        "\n",
        "Let $(x,y)$ be Cartesian coordinates on $Q$. Then $\\pi_{\\tau}$ has the following representation,\n",
        "\n",
        "\\begin{equation}\n",
        "    \\pi_{\\tau} = \\tau\\,\\frac{\\partial}{\\partial x} \\wedge \\frac{\\partial}{\\partial y}\n",
        "\\end{equation}\n",
        "\n",
        "for some conformal factor $\\tau \\in \\mathbf{C}^{\\infty}(Q)$. The space of absolutely continuous measures with a smooth positive density function on $Q$ is given by:\n",
        "\n",
        "\\begin{equation*}\n",
        "    P^{\\infty}(Q) = \\left\\{ \\rho\\,|\\mathrm{d}{x} \\wedge \\mathrm{d}{y}| \\ \\Big|\\ \\rho \\in \\mathbf{C}^{\\infty}(Q), \\rho > 0, \\int_{0}^{1}\\int_{0}^{1}\\rho\\,\\mathrm{d}{x}\\mathrm{d}{y} = 1 \\right\\}.\n",
        "\\end{equation*}\n",
        "\n",
        "The Poisson bracket induced by $\\pi_{\\tau}$ on $P^{\\infty}(Q)$, evaluated on two linear functionals $\\mathscr{F}_{f},\\mathscr{F}_{h} \\in \\mathbf{C}^{\\infty}(P^{\\infty}(Q))$ and at a measure $\\mu_{\\rho} \\in P^{\\infty}(Q)$ is given by:\n",
        "\n",
        "\\begin{equation}\n",
        "    \\{\\mathscr{F}_{f}, \\mathscr{F}_{h}\\}(\\mu_{\\rho}) = \\int_{0}^{1}\\int_{0}^{1} \\left( \\frac{\\partial f}{\\partial x} \\frac{\\partial h}{\\partial y} - \\frac{\\partial h}{\\partial x} \\frac{\\partial f}{\\partial y} \\right) \\tau\\rho\\,\\mathrm{d}x\\mathrm{d}y.\n",
        "\\end{equation}"
      ]
    },
    {
      "cell_type": "markdown",
      "metadata": {
        "id": "7AJknQL-1ZTn"
      },
      "source": [
        "## Examples"
      ]
    },
    {
      "cell_type": "markdown",
      "metadata": {
        "id": "zHXfobRTfIbg"
      },
      "source": [
        "**Example**\n",
        "\n",
        "$$ \\rho = 1$$"
      ]
    },
    {
      "cell_type": "code",
      "metadata": {
        "id": "uznWEG68WEjZ",
        "colab": {
          "base_uri": "https://localhost:8080/",
          "height": 0
        },
        "outputId": "1a175cc8-362c-45d5-8b60-f4aa53b833e0"
      },
      "source": [
        "da.PoissonWasserstein_R2(1, 1, 'x1', 'x2')"
      ],
      "execution_count": 5,
      "outputs": [
        {
          "output_type": "execute_result",
          "data": {
            "text/latex": "$\\displaystyle 1$",
            "text/plain": [
              "1"
            ]
          },
          "metadata": {
            "tags": []
          },
          "execution_count": 5
        }
      ]
    },
    {
      "cell_type": "code",
      "metadata": {
        "id": "hS2nAg1MhKFr",
        "colab": {
          "base_uri": "https://localhost:8080/"
        },
        "outputId": "2917d7c1-2fe5-488e-8265-e1f90e9d9cc8"
      },
      "source": [
        "da.PoissonWasserstein_R2(1, 1, 'x1', 'x2', numerical=True)"
      ],
      "execution_count": 6,
      "outputs": [
        {
          "output_type": "execute_result",
          "data": {
            "text/plain": [
              "(1.0, 1.1102230246251565e-14)"
            ]
          },
          "metadata": {
            "tags": []
          },
          "execution_count": 6
        }
      ]
    },
    {
      "cell_type": "code",
      "metadata": {
        "id": "0MJQUuBIAXPb",
        "colab": {
          "base_uri": "https://localhost:8080/",
          "height": 0
        },
        "outputId": "0827a2fa-ce17-4434-9361-c6c93ae154ef"
      },
      "source": [
        "da.PoissonWasserstein_R2(1, 1, 'a1*x1 + b*x2', 'c*x1 + d*x2')"
      ],
      "execution_count": 7,
      "outputs": [
        {
          "output_type": "execute_result",
          "data": {
            "text/latex": "$\\displaystyle a_{1} d - b c$",
            "text/plain": [
              "a1*d - b*c"
            ]
          },
          "metadata": {
            "tags": []
          },
          "execution_count": 7
        }
      ]
    },
    {
      "cell_type": "markdown",
      "metadata": {
        "id": "ewborRwthslv"
      },
      "source": [
        "**Example**\n",
        "\n",
        "$$ \\rho = \\tfrac{3}{2}(x_{1}^{2} + x_{2}^{2}) $$"
      ]
    },
    {
      "cell_type": "code",
      "metadata": {
        "id": "OE_gsYZYlI9i",
        "colab": {
          "base_uri": "https://localhost:8080/",
          "height": 0
        },
        "outputId": "79d25220-5311-4dfe-e631-d475ee8e6f51"
      },
      "source": [
        "tau = 1\n",
        "rho = '(3/2) * (x1**2 + x2**2)'\n",
        "\n",
        "da.PoissonWasserstein_R2(1, rho, 'x1', 'x2')"
      ],
      "execution_count": 8,
      "outputs": [
        {
          "output_type": "execute_result",
          "data": {
            "text/latex": "$\\displaystyle 1$",
            "text/plain": [
              "1"
            ]
          },
          "metadata": {
            "tags": []
          },
          "execution_count": 8
        }
      ]
    },
    {
      "cell_type": "code",
      "metadata": {
        "id": "BUXyWq5iWJBr",
        "colab": {
          "base_uri": "https://localhost:8080/",
          "height": 0
        },
        "outputId": "56a7956d-69af-48ba-f07c-f8378a64f6c7"
      },
      "source": [
        "da.PoissonWasserstein_R2(1, rho, 'x1 + x2', 'x1**2 - x2**2')"
      ],
      "execution_count": 9,
      "outputs": [
        {
          "output_type": "execute_result",
          "data": {
            "text/latex": "$\\displaystyle - \\frac{5}{2}$",
            "text/plain": [
              "-5/2"
            ]
          },
          "metadata": {
            "tags": []
          },
          "execution_count": 9
        }
      ]
    },
    {
      "cell_type": "code",
      "metadata": {
        "id": "qx9NNlF-tLTU",
        "colab": {
          "base_uri": "https://localhost:8080/"
        },
        "outputId": "c498b48a-2b06-4def-8c98-022a2aeb4320"
      },
      "source": [
        "da.PoissonWasserstein_R2(1, rho, 'x1 + x2', 'x1**2 - x2**2', numerical=True)"
      ],
      "execution_count": 10,
      "outputs": [
        {
          "output_type": "execute_result",
          "data": {
            "text/plain": [
              "(-2.5000000000000004, 6.907608970445891e-14)"
            ]
          },
          "metadata": {
            "tags": []
          },
          "execution_count": 10
        }
      ]
    },
    {
      "cell_type": "code",
      "metadata": {
        "id": "0OD7_HlpsvVC"
      },
      "source": [
        "#PoissonWasserstein_R2(tau, rho, FF, GG)"
      ],
      "execution_count": 11,
      "outputs": []
    },
    {
      "cell_type": "code",
      "metadata": {
        "id": "I7CqgaB2WjRt"
      },
      "source": [
        "import sympy as sym"
      ],
      "execution_count": 12,
      "outputs": []
    },
    {
      "cell_type": "code",
      "metadata": {
        "colab": {
          "base_uri": "https://localhost:8080/",
          "height": 0
        },
        "id": "mKF3IaWgUacP",
        "outputId": "61901a60-cfd6-4e39-a71b-bdac8d79246a"
      },
      "source": [
        "sym.trigsimp(da.PoissonWasserstein_R2(1, rho, 'sin(x1)', 'sin(x2)'))"
      ],
      "execution_count": 13,
      "outputs": [
        {
          "output_type": "execute_result",
          "data": {
            "text/latex": "$\\displaystyle - 3 \\sin^{2}{\\left(1 \\right)} + 3 \\sin{\\left(2 \\right)}$",
            "text/plain": [
              "-3*sin(1)**2 + 3*sin(2)"
            ]
          },
          "metadata": {
            "tags": []
          },
          "execution_count": 13
        }
      ]
    },
    {
      "cell_type": "code",
      "metadata": {
        "colab": {
          "base_uri": "https://localhost:8080/"
        },
        "id": "i6up7sWPbWfE",
        "outputId": "8bcc0fbc-7031-4054-ba46-555ebde67214"
      },
      "source": [
        "da.PoissonWasserstein_R2(1, rho, 'sin(x1)', 'sin(x2)', numerical=True)"
      ],
      "execution_count": 14,
      "outputs": [
        {
          "output_type": "execute_result",
          "data": {
            "text/plain": [
              "(0.6036720256563315, 9.723010127624346e-15)"
            ]
          },
          "metadata": {
            "tags": []
          },
          "execution_count": 14
        }
      ]
    },
    {
      "cell_type": "markdown",
      "metadata": {
        "id": "GXQWW95YmXfP"
      },
      "source": [
        "**Example**\n",
        "\n",
        "$$ \\rho = \\tfrac{2}{c\\pi}e^{-\\frac{1}{2}(x^{2} + y^{2})} $$"
      ]
    },
    {
      "cell_type": "code",
      "metadata": {
        "id": "8sc1nmlXb66o",
        "colab": {
          "base_uri": "https://localhost:8080/",
          "height": 0
        },
        "outputId": "10ad0cc0-2f48-40d7-c25f-a05ccc35e987"
      },
      "source": [
        "tau = 1\n",
        "rho = '2/(pi * erf(sqrt(2)/2)**2) * exp((-1/2) * (x1**2 + x2**2))'\n",
        "\n",
        "da.PoissonWasserstein_R2(tau, rho, 'x1', 'x2')"
      ],
      "execution_count": 15,
      "outputs": [
        {
          "output_type": "execute_result",
          "data": {
            "text/latex": "$\\displaystyle 1$",
            "text/plain": [
              "1"
            ]
          },
          "metadata": {
            "tags": []
          },
          "execution_count": 15
        }
      ]
    },
    {
      "cell_type": "code",
      "metadata": {
        "id": "J1gLGZzHycLZ",
        "colab": {
          "base_uri": "https://localhost:8080/",
          "height": 0
        },
        "outputId": "f3771dbd-c7a3-4afb-c249-9886079b4760"
      },
      "source": [
        "FF = 'sin(x1)'\n",
        "GG = 'cos(x1)'\n",
        "\n",
        "da.PoissonWasserstein_R2(tau, rho, FF, GG)"
      ],
      "execution_count": 16,
      "outputs": [
        {
          "output_type": "execute_result",
          "data": {
            "text/latex": "$\\displaystyle 0$",
            "text/plain": [
              "0"
            ]
          },
          "metadata": {
            "tags": []
          },
          "execution_count": 16
        }
      ]
    },
    {
      "cell_type": "code",
      "metadata": {
        "id": "f7aj-qUHkHOJ",
        "colab": {
          "base_uri": "https://localhost:8080/"
        },
        "outputId": "5b2ecb6e-5de5-43bd-a1e1-4904e89c5646"
      },
      "source": [
        "da.PoissonWasserstein_R2(tau, rho, FF, GG, numerical=True)"
      ],
      "execution_count": 17,
      "outputs": [
        {
          "output_type": "execute_result",
          "data": {
            "text/plain": [
              "(0.0, 0)"
            ]
          },
          "metadata": {
            "tags": []
          },
          "execution_count": 17
        }
      ]
    },
    {
      "cell_type": "code",
      "metadata": {
        "colab": {
          "base_uri": "https://localhost:8080/",
          "height": 0
        },
        "id": "QeEOZc4BclDr",
        "outputId": "8fb67200-b692-45ab-f2d9-d59ca7d0a3b3"
      },
      "source": [
        "FF = 'x1**2'\n",
        "GG = 'x2**2'\n",
        "\n",
        "sym.factor(da.PoissonWasserstein_R2(tau, rho, FF, GG))"
      ],
      "execution_count": 18,
      "outputs": [
        {
          "output_type": "execute_result",
          "data": {
            "text/latex": "$\\displaystyle \\frac{8 \\left(-1 + e^{\\frac{1}{2}}\\right) \\left(e - e^{\\frac{1}{2}}\\right)}{\\pi e^{\\frac{3}{2}} \\operatorname{erf}^{2}{\\left(\\frac{\\sqrt{2}}{2} \\right)}}$",
            "text/plain": [
              "8*(-1 + exp(1/2))*(E - exp(1/2))*exp(-3/2)/(pi*erf(sqrt(2)/2)**2)"
            ]
          },
          "metadata": {
            "tags": []
          },
          "execution_count": 18
        }
      ]
    },
    {
      "cell_type": "code",
      "metadata": {
        "colab": {
          "base_uri": "https://localhost:8080/",
          "height": 0
        },
        "id": "-lP-HC5_f3h_",
        "outputId": "09b7837a-dd01-41ab-ebdc-d87d9ad7bf0f"
      },
      "source": [
        "aa = 0.4660649426743922\n",
        "rho = f'2/(pi * {aa}) * exp((-1/2) * (x1**2 + x2**2))'\n",
        "rho"
      ],
      "execution_count": 19,
      "outputs": [
        {
          "output_type": "execute_result",
          "data": {
            "application/vnd.google.colaboratory.intrinsic+json": {
              "type": "string"
            },
            "text/plain": [
              "'2/(pi * 0.4660649426743922) * exp((-1/2) * (x1**2 + x2**2))'"
            ]
          },
          "metadata": {
            "tags": []
          },
          "execution_count": 19
        }
      ]
    },
    {
      "cell_type": "code",
      "metadata": {
        "colab": {
          "base_uri": "https://localhost:8080/"
        },
        "id": "2zDdSl0BfoQv",
        "outputId": "45f796d1-1314-4f33-ee51-88c1d7577523"
      },
      "source": [
        "da.PoissonWasserstein_R2(tau, rho, FF, GG, numerical=True)"
      ],
      "execution_count": 20,
      "outputs": [
        {
          "output_type": "execute_result",
          "data": {
            "text/plain": [
              "(0.8458930796971273, 1.4476564660581225e-14)"
            ]
          },
          "metadata": {
            "tags": []
          },
          "execution_count": 20
        }
      ]
    },
    {
      "cell_type": "markdown",
      "metadata": {
        "id": "RunjYGgRiB9M"
      },
      "source": [
        "# Poisson Brackets on $P^{\\infty}(\\mathbf{T}^{2})$"
      ]
    },
    {
      "cell_type": "markdown",
      "metadata": {
        "id": "JF3ox1kr1qX4"
      },
      "source": [
        "Let $\\mathbf{T}^{2}$ be the 2-torus, and $\\pi_{\\tau}$ a Poisson bivector field on $\\mathbf{T}^{2}$.\n",
        "\n",
        "Let $(\\theta_{1}, \\theta_{2})$ be natural coordinates on $\\mathbf{T}^{2} \\simeq \\mathbf{S}^{1} \\times \\mathbf{S}^{1}$, with $\\theta_{1}, \\theta_{2} \\in \\mathbf{R}/2\\pi\\mathbf{Z}$. Then $\\pi_{\\tau}$ has the following representation,\n",
        "\n",
        "\\begin{equation}\n",
        "    \\pi_{\\tau} = \\tau\\,\\frac{\\partial}{\\partial \\theta_{1}} \\wedge \\frac{\\partial}{\\partial \\theta_{2}}\n",
        "\\end{equation}\n",
        "\n",
        "for some conformal factor $\\tau \\in \\mathbf{C}^{\\infty}(\\mathbf{T}^{2})$. The space of absolutely continuous measures with a smooth positive density function on $\\mathbf{T}^{2}$ is given by:\n",
        "\n",
        "\\begin{equation*}\n",
        "    P^{\\infty}(\\mathbf{T}^{2}) = \\left\\{ \\rho\\,|\\mathrm{d}{\\theta_{1}} \\wedge \\mathrm{d}{\\theta_{2}}| \\ \\Big|\\ \\rho \\in \\mathbf{C}^{\\infty}(\\mathbf{T}^{2}), \\rho > 0, \\frac{1}{4\\pi^{2}}\\int_{0}^{2\\pi}\\int_{0}^{2\\pi}\\rho\\,\\mathrm{d}{\\theta_{1}}\\mathrm{d}{\\theta_{2}} = 1 \\right\\}.\n",
        "\\end{equation*}\n",
        "\n",
        "The Poisson bracket induced by $\\pi_{\\tau}$ on $P^{\\infty}(\\mathbf{T}^{2})$, evaluated on two linear functionals $\\mathscr{F}_{f},\\mathscr{F}_{h} \\in \\mathbf{C}^{\\infty}(P^{\\infty}(\\mathbf{T}^{2}))$ and at a measure $\\mu_{\\rho} \\in P^{\\infty}(\\mathbf{T}^{2})$ is given by:\n",
        "\n",
        "\\begin{equation}\n",
        "    \\{\\mathscr{F}_{f}, \\mathscr{F}_{h}\\}(\\mu_{\\rho}) = \\frac{1}{4\\pi^{2}}\\int_{0}^{2\\pi}\\int_{0}^{2\\pi} \\left( \\frac{\\partial f}{\\partial \\theta_{1}} \\frac{\\partial h}{\\partial \\theta_{2}} - \\frac{\\partial h}{\\partial \\theta_{1}} \\frac{\\partial f}{\\partial \\theta_{2}} \\right) \\tau\\rho\\,\\mathrm{d}\\theta_{1}\\mathrm{d}\\theta_{2}.\n",
        "\\end{equation}"
      ]
    },
    {
      "cell_type": "markdown",
      "metadata": {
        "id": "HHthIFek3j1X"
      },
      "source": [
        "## Examples"
      ]
    },
    {
      "cell_type": "markdown",
      "metadata": {
        "id": "kEQLTqAQiB9h"
      },
      "source": [
        "**Example**\n",
        "\n",
        "$$ \\rho = 1 $$"
      ]
    },
    {
      "cell_type": "code",
      "metadata": {
        "colab": {
          "base_uri": "https://localhost:8080/",
          "height": 0
        },
        "id": "HL9gqph6OAlC",
        "outputId": "d515346b-4dea-4e86-bdc5-db00dd3c3809"
      },
      "source": [
        "da.PoissonWasserstein_T2(1, '1', 'theta1', 'theta2')"
      ],
      "execution_count": 21,
      "outputs": [
        {
          "output_type": "execute_result",
          "data": {
            "text/latex": "$\\displaystyle 1$",
            "text/plain": [
              "1"
            ]
          },
          "metadata": {
            "tags": []
          },
          "execution_count": 21
        }
      ]
    },
    {
      "cell_type": "code",
      "metadata": {
        "id": "IXBL2XIAiB9h",
        "colab": {
          "base_uri": "https://localhost:8080/"
        },
        "outputId": "b7b753d0-9486-4248-eba4-6ad936d81fad"
      },
      "source": [
        "da.PoissonWasserstein_T2(1, '1', 'theta1', 'theta2', numerical=True)"
      ],
      "execution_count": 22,
      "outputs": [
        {
          "output_type": "execute_result",
          "data": {
            "text/plain": [
              "(1.0, 1.1102230246251565e-14)"
            ]
          },
          "metadata": {
            "tags": []
          },
          "execution_count": 22
        }
      ]
    },
    {
      "cell_type": "markdown",
      "metadata": {
        "id": "ntX4C_9iU0T_"
      },
      "source": [
        "**Example**\n",
        "\n",
        "$$ \\rho = \\tfrac{1}{2} \\big( \\cos\\theta_1 + \\cos\\theta_2 + 2 \\big)$$"
      ]
    },
    {
      "cell_type": "code",
      "metadata": {
        "colab": {
          "base_uri": "https://localhost:8080/",
          "height": 0
        },
        "id": "igXkk0LWVOI5",
        "outputId": "ca31f2c9-8ed3-4dc4-e452-8b4f311f0c5d"
      },
      "source": [
        "tau = 1\n",
        "rho = '1/2 * (cos(theta1) + cos(theta2) + 2)'\n",
        "\n",
        "da.PoissonWasserstein_T2(tau, rho, 'theta1', 'theta2')"
      ],
      "execution_count": 23,
      "outputs": [
        {
          "output_type": "execute_result",
          "data": {
            "text/latex": "$\\displaystyle 1$",
            "text/plain": [
              "1"
            ]
          },
          "metadata": {
            "tags": []
          },
          "execution_count": 23
        }
      ]
    },
    {
      "cell_type": "code",
      "metadata": {
        "colab": {
          "base_uri": "https://localhost:8080/",
          "height": 0
        },
        "id": "kZxM7LA4W4Lb",
        "outputId": "2afda818-417b-41e1-d39e-8347cb07e7e5"
      },
      "source": [
        "FF = 'theta1**2'\n",
        "GG = 'theta2**2'\n",
        "\n",
        "da.PoissonWasserstein_T2(tau, rho, FF, GG)"
      ],
      "execution_count": 24,
      "outputs": [
        {
          "output_type": "execute_result",
          "data": {
            "text/latex": "$\\displaystyle 4 \\pi^{2}$",
            "text/plain": [
              "4*pi**2"
            ]
          },
          "metadata": {
            "tags": []
          },
          "execution_count": 24
        }
      ]
    },
    {
      "cell_type": "code",
      "metadata": {
        "colab": {
          "base_uri": "https://localhost:8080/"
        },
        "id": "1qHiOGxPlJxN",
        "outputId": "8c140176-14c4-4e37-8f30-0343238003c3"
      },
      "source": [
        "da.PoissonWasserstein_T2(tau, rho, FF, GG, numerical=True)"
      ],
      "execution_count": 25,
      "outputs": [
        {
          "output_type": "execute_result",
          "data": {
            "text/plain": [
              "(39.47841760435744, 4.382984820012474e-13)"
            ]
          },
          "metadata": {
            "tags": []
          },
          "execution_count": 25
        }
      ]
    },
    {
      "cell_type": "code",
      "metadata": {
        "colab": {
          "base_uri": "https://localhost:8080/",
          "height": 0
        },
        "id": "kR9RwaoWu3-N",
        "outputId": "41c013ee-f036-4152-e51f-2f7674c6b6f8"
      },
      "source": [
        "FF = 'exp(theta1)'\n",
        "GG = 'exp(theta2)'\n",
        "\n",
        "sym.factor(da.PoissonWasserstein_T2(tau, rho, FF, GG))"
      ],
      "execution_count": 26,
      "outputs": [
        {
          "output_type": "execute_result",
          "data": {
            "text/latex": "$\\displaystyle \\frac{3 \\left(-1 + e^{\\pi}\\right)^{2} \\left(1 + e^{\\pi}\\right)^{2}}{8 \\pi^{2}}$",
            "text/plain": [
              "3*(-1 + exp(pi))**2*(1 + exp(pi))**2/(8*pi**2)"
            ]
          },
          "metadata": {
            "tags": []
          },
          "execution_count": 26
        }
      ]
    },
    {
      "cell_type": "code",
      "metadata": {
        "colab": {
          "base_uri": "https://localhost:8080/"
        },
        "id": "d97HkedQwT_d",
        "outputId": "6ae45f03-93ec-4f39-8829-9f1c67d88756"
      },
      "source": [
        "da.PoissonWasserstein_T2(tau, rho, FF, GG, numerical=True)"
      ],
      "execution_count": 27,
      "outputs": [
        {
          "output_type": "execute_result",
          "data": {
            "text/plain": [
              "(10854.588930917727, 1.3894578159936932e-10)"
            ]
          },
          "metadata": {
            "tags": []
          },
          "execution_count": 27
        }
      ]
    },
    {
      "cell_type": "markdown",
      "metadata": {
        "id": "i6NB8FZSiB9j"
      },
      "source": [
        "**Example**\n",
        "\n",
        "$$ \\rho = \\tfrac{1}{c} e^{\\cos(\\theta_1) + \\cos(\\theta_2)}$$"
      ]
    },
    {
      "cell_type": "code",
      "metadata": {
        "id": "UhXkqptxiB9j"
      },
      "source": [
        "tau = 1\n",
        "rho = 'exp(cos(theta1) + cos(theta2))'"
      ],
      "execution_count": 28,
      "outputs": []
    },
    {
      "cell_type": "code",
      "metadata": {
        "id": "8MRk3S-FSzSO"
      },
      "source": [
        "#CC = PoissonWasserstein_T2(tau, rho, 'theta1', 'theta2')\n",
        "#CC"
      ],
      "execution_count": 29,
      "outputs": []
    },
    {
      "cell_type": "code",
      "metadata": {
        "id": "ZDkVPKSaPJt7"
      },
      "source": [
        "#CC2 = 1/CC\n",
        "\n",
        "#rho = f'{CC2} * exp(cos(theta1) + cos(theta2))'\n",
        "#FF = 'theta1**2'\n",
        "#GG = 'theta2**2'\n",
        "\n",
        "#PoissonWasserstein_T2(tau, rho, FF, GG)"
      ],
      "execution_count": 30,
      "outputs": []
    },
    {
      "cell_type": "code",
      "metadata": {
        "id": "hMAUzMwkyTTz"
      },
      "source": [
        "#CC2 = 1/CC\n",
        "\n",
        "#rho = f'{CC2} * exp(cos(theta1) + cos(theta2))'\n",
        "#FF = 'theta1'\n",
        "#GG = 'theta2'\n",
        "\n",
        "#PoissonWasserstein_T2(tau, rho, FF, GG)"
      ],
      "execution_count": 31,
      "outputs": []
    },
    {
      "cell_type": "code",
      "metadata": {
        "colab": {
          "base_uri": "https://localhost:8080/"
        },
        "id": "i5lGK1O5SVik",
        "outputId": "ba7aadf8-7c98-43be-fc0c-6a5a3c9ef473"
      },
      "source": [
        "CCnum = da.PoissonWasserstein_T2(tau, 'exp(cos(theta1) + cos(theta2))', 'theta1', 'theta2', numerical=True)\n",
        "CC3 = 1 / CCnum[0]\n",
        "CC3, CCnum[1]"
      ],
      "execution_count": 32,
      "outputs": [
        {
          "output_type": "execute_result",
          "data": {
            "text/plain": [
              "(0.6238603604320693, 4.909750449929239e-12)"
            ]
          },
          "metadata": {
            "tags": []
          },
          "execution_count": 32
        }
      ]
    },
    {
      "cell_type": "code",
      "metadata": {
        "colab": {
          "base_uri": "https://localhost:8080/"
        },
        "id": "eDgF3xDgmJDO",
        "outputId": "c542db9d-3787-4096-f5ee-9aa672ca70ba"
      },
      "source": [
        "rho = f'{CC3} * exp(cos(theta1) + cos(theta2))'\n",
        "FF = 'theta1**2'\n",
        "GG = 'theta2**2'\n",
        "\n",
        "da.PoissonWasserstein_T2(tau, rho, FF, GG, numerical=True)"
      ],
      "execution_count": 33,
      "outputs": [
        {
          "output_type": "execute_result",
          "data": {
            "text/plain": [
              "(39.47841760435743, 2.2227639948904296e-10)"
            ]
          },
          "metadata": {
            "tags": []
          },
          "execution_count": 33
        }
      ]
    },
    {
      "cell_type": "code",
      "metadata": {
        "colab": {
          "base_uri": "https://localhost:8080/"
        },
        "id": "q2hqeS6fyK4A",
        "outputId": "3ca1f811-8fc0-4bc2-9b6e-9f201db9ad08"
      },
      "source": [
        "rho = f'{CC3} * exp(cos(theta1) + cos(theta2))'\n",
        "FF = 'theta1'\n",
        "GG = 'theta2'\n",
        "\n",
        "da.PoissonWasserstein_T2(tau, rho, FF, GG, numerical=True)"
      ],
      "execution_count": 34,
      "outputs": [
        {
          "output_type": "execute_result",
          "data": {
            "text/plain": [
              "(1.0, 3.062998047371004e-12)"
            ]
          },
          "metadata": {
            "tags": []
          },
          "execution_count": 34
        }
      ]
    },
    {
      "cell_type": "markdown",
      "metadata": {
        "id": "_EhiDMZjySTV"
      },
      "source": [
        "# Poisson Brackets on $P^{\\infty}(\\mathbf{S}^{2})$"
      ]
    },
    {
      "cell_type": "markdown",
      "metadata": {
        "id": "Slz6FRe98lSp"
      },
      "source": [
        "Let $\\mathbf{S}^{2}$ be the 2-sphere, and $\\pi_{\\tau}$ a Poisson bivector field on $\\mathbf{S}^{2}$.\n",
        "\n",
        "Let $(\\theta,\\phi) \\in (0,\\pi) \\times (0,2\\pi)$ be spherical coordinates on $\\mathbf{S}^{2}$ such that $ (\\theta, \\phi) \\mapsto (\\sin{\\theta}\\cos{\\phi}, \\sin{\\theta}\\sin{\\phi}, \\cos{\\theta})$. Then $\\pi_{\\tau}$ has the following representation,\n",
        "\n",
        "\\begin{equation}\n",
        "    \\pi_{\\tau} = \\frac{\\tau}{\\sin{\\theta}}\\frac{\\partial}{\\partial \\theta} \\wedge \\frac{\\partial}{\\partial \\phi}\n",
        "\\end{equation}\n",
        "\n",
        "for some conformal factor $\\tau \\in \\mathbf{C}^{\\infty}(\\mathbf{S}^{2})$. The space of absolutely continuous measures with a smooth positive density function on $\\mathbf{S}^{2}$ is given by:\n",
        "\n",
        "\\begin{equation*}\n",
        "    P^{\\infty}(\\mathbf{S}^{2}) = \\left\\{ \\rho\\sin{\\theta}\\,|\\mathrm{d}{\\theta} \\wedge \\mathrm{d}{\\phi}| \\ \\Big|\\ \\rho \\in \\mathbf{C}^{\\infty}(\\mathbf{S}^{2}), \\rho > 0, \\frac{1}{4\\pi}\\int_{0}^{2\\pi}\\int_{0}^{\\pi}\\rho\\sin{\\theta}\\,\\mathrm{d}{\\theta}\\mathrm{d}{\\phi} = 1 \\right\\}.\n",
        "\\end{equation*}\n",
        "\n",
        "The Poisson bracket induced by $\\pi_{\\tau}$ on $P^{\\infty}(\\mathbf{S}^{2})$, evaluated on two linear functionals $\\mathscr{F}_{f},\\mathscr{F}_{h} \\in \\mathbf{C}^{\\infty}(P^{\\infty}(\\mathbf{S}^{2}))$ and at a measure $\\mu_{\\rho} \\in P^{\\infty}(\\mathbf{S}^{2})$ is given by:\n",
        "\n",
        "\\begin{equation}\n",
        "    \\{\\mathscr{F}_{f}, \\mathscr{F}_{h}\\}(\\mu_{\\rho}) = \\frac{1}{4\\pi}\\int_{0}^{2\\pi}\\int_{0}^{\\pi} \\left( \\frac{\\partial f}{\\partial \\theta} \\frac{\\partial h}{\\partial \\phi} - \\frac{\\partial h}{\\partial \\theta} \\frac{\\partial f}{\\partial \\phi} \\right) \\tau\\rho\\sin{\\theta}\\,\\mathrm{d}\\theta\\mathrm{d}\\theta{\\phi}.\n",
        "\\end{equation}"
      ]
    },
    {
      "cell_type": "markdown",
      "metadata": {
        "id": "6T4eFBFWIgiD"
      },
      "source": [
        "## Examples"
      ]
    },
    {
      "cell_type": "markdown",
      "metadata": {
        "id": "RWpyy7VtRuU-"
      },
      "source": [
        "**Example**\n",
        "\n",
        "$$ \\rho = 1 $$"
      ]
    },
    {
      "cell_type": "code",
      "metadata": {
        "colab": {
          "base_uri": "https://localhost:8080/"
        },
        "id": "ZmI86WwPMQPP",
        "outputId": "591e93e2-e6c4-45a4-cd8e-391008780180"
      },
      "source": [
        "da.PoissonWasserstein_S2(1, '1', 'theta', 'phi', numerical=True)"
      ],
      "execution_count": 35,
      "outputs": [
        {
          "output_type": "execute_result",
          "data": {
            "text/plain": [
              "(1.0, 1.1102230246251565e-14)"
            ]
          },
          "metadata": {
            "tags": []
          },
          "execution_count": 35
        }
      ]
    },
    {
      "cell_type": "code",
      "metadata": {
        "colab": {
          "base_uri": "https://localhost:8080/",
          "height": 0
        },
        "id": "JafpMAP9zoXC",
        "outputId": "20d8a26c-b789-4572-c61d-4d9ee1b7c5fd"
      },
      "source": [
        "da.PoissonWasserstein_S2(1, '1', 'theta', 'phi')"
      ],
      "execution_count": 36,
      "outputs": [
        {
          "output_type": "execute_result",
          "data": {
            "text/latex": "$\\displaystyle 1$",
            "text/plain": [
              "1"
            ]
          },
          "metadata": {
            "tags": []
          },
          "execution_count": 36
        }
      ]
    },
    {
      "cell_type": "markdown",
      "metadata": {
        "id": "_epddwbKRhEo"
      },
      "source": [
        "**Example**\n",
        "\n",
        "$$ \\rho = \\frac{2\\sin{\\theta}}{\\pi(1 - \\cos{\\theta})}$$"
      ]
    },
    {
      "cell_type": "code",
      "metadata": {
        "id": "XLDy0xXcy1Ni"
      },
      "source": [
        "tau = 1\n",
        "rho = '2*sin(theta) / (pi*(1 - cos(theta)))'"
      ],
      "execution_count": 37,
      "outputs": []
    },
    {
      "cell_type": "code",
      "metadata": {
        "colab": {
          "base_uri": "https://localhost:8080/"
        },
        "id": "6Y7wEHlRQVgo",
        "outputId": "80f48781-9dc2-4c1c-e509-d1a3a4edff72"
      },
      "source": [
        "FF = 'sqrt(3/(4*pi)) * sin(theta)*sin(phi)'\n",
        "GG = 'sqrt(3/(4*pi)) * sin(theta)*cos(phi)'\n",
        "\n",
        "da.PoissonWasserstein_S2(tau, rho, FF, GG, numerical=True)"
      ],
      "execution_count": 38,
      "outputs": [
        {
          "output_type": "execute_result",
          "data": {
            "text/plain": [
              "(-0.05066059182116893, 1.1607893895468986e-15)"
            ]
          },
          "metadata": {
            "tags": []
          },
          "execution_count": 38
        }
      ]
    },
    {
      "cell_type": "code",
      "metadata": {
        "colab": {
          "base_uri": "https://localhost:8080/"
        },
        "id": "xJfI8Pk4zQiO",
        "outputId": "0c2a3106-2689-437b-abcd-b95e50413eac"
      },
      "source": [
        "FF = 'sqrt(5/(16*pi)) * (3*cos(theta)**2 - 1)'\n",
        "GG = 'sqrt(15/(16*pi)) * sin(theta)**2 * (cos(phi)**2 - sin(phi)**2)'\n",
        "\n",
        "da.PoissonWasserstein_S2(tau, rho, FF, GG, numerical=True)"
      ],
      "execution_count": 39,
      "outputs": [
        {
          "output_type": "execute_result",
          "data": {
            "text/plain": [
              "(3.035921459075803e-18, 3.879225265591081e-09)"
            ]
          },
          "metadata": {
            "tags": []
          },
          "execution_count": 39
        }
      ]
    },
    {
      "cell_type": "code",
      "metadata": {
        "id": "TXRIdLYvrZoI"
      },
      "source": [
        "#PoissonWasserstein_S2(tau, rho, FF, GG)"
      ],
      "execution_count": 40,
      "outputs": []
    },
    {
      "cell_type": "markdown",
      "metadata": {
        "id": "2Nr3W5mAYFKu"
      },
      "source": [
        "**Example**\n",
        "\n",
        "$$ \\rho = \\tfrac{1}{0.12049632702243548\\,\\pi}e^{\\frac{\\sin{\\theta}}{\\cos{\\theta} - 1}} $$"
      ]
    },
    {
      "cell_type": "code",
      "metadata": {
        "id": "kL8tHa2o3W_0"
      },
      "source": [
        "tau = 1\n",
        "rho = '1/(0.12049632702243548 * pi) * exp(sin(theta) / (cos(theta)-1))'"
      ],
      "execution_count": 41,
      "outputs": []
    },
    {
      "cell_type": "code",
      "metadata": {
        "id": "r1meGeKNNGvD",
        "colab": {
          "base_uri": "https://localhost:8080/"
        },
        "outputId": "285b3fe4-b3bc-4652-dda8-f120ed4114cb"
      },
      "source": [
        "FF = 'sqrt(3/(4*pi)) * sin(theta)*sin(phi)'\n",
        "GG = 'sqrt(3/(4*pi)) * sin(theta)*cos(phi)'\n",
        "\n",
        "da.PoissonWasserstein_S2(tau, rho, FF, GG, numerical=True)"
      ],
      "execution_count": 42,
      "outputs": [
        {
          "output_type": "execute_result",
          "data": {
            "text/plain": [
              "(0.050349869040611804, 2.9303219955243744e-10)"
            ]
          },
          "metadata": {
            "tags": []
          },
          "execution_count": 42
        }
      ]
    },
    {
      "cell_type": "code",
      "metadata": {
        "colab": {
          "base_uri": "https://localhost:8080/"
        },
        "id": "dLTYkYGC3qtU",
        "outputId": "0352dfe6-fc7b-49f2-e7d1-a9d4a83a03d2"
      },
      "source": [
        "FF = 'sqrt(5/(16*pi)) * (3*cos(theta)**2 - 1)'\n",
        "GG = 'sqrt(15/(16*pi)) * sin(theta)**2 * (cos(phi)**2 - sin(phi)**2)'\n",
        "\n",
        "da.PoissonWasserstein_S2(tau, rho, FF, GG, numerical=True)"
      ],
      "execution_count": 43,
      "outputs": [
        {
          "output_type": "execute_result",
          "data": {
            "text/plain": [
              "(-9.908030320451095e-19, 9.275090931186853e-10)"
            ]
          },
          "metadata": {
            "tags": []
          },
          "execution_count": 43
        }
      ]
    },
    {
      "cell_type": "code",
      "metadata": {
        "id": "vN-2P_Xx2_Vm"
      },
      "source": [
        "#PoissonWasserstein_S2(tau, rho, FF, GG)"
      ],
      "execution_count": 44,
      "outputs": []
    },
    {
      "cell_type": "code",
      "metadata": {
        "id": "uF5L7RBiRnky"
      },
      "source": [
        "tau = 1\n",
        "rho = 'exp(-(sin(theta) / (1 - cos(theta)))**2)'"
      ],
      "execution_count": 45,
      "outputs": []
    },
    {
      "cell_type": "code",
      "metadata": {
        "colab": {
          "base_uri": "https://localhost:8080/"
        },
        "id": "FqDOVeI1RzV9",
        "outputId": "dc0f5b59-b90b-4f04-cccd-503ea4a82cb0"
      },
      "source": [
        "da.PoissonWasserstein_S2(tau, rho, 'theta', 'phi', numerical=True)"
      ],
      "execution_count": 46,
      "outputs": [
        {
          "output_type": "execute_result",
          "data": {
            "text/plain": [
              "(0.4036526376768064, 1.0718569081632671e-10)"
            ]
          },
          "metadata": {
            "tags": []
          },
          "execution_count": 46
        }
      ]
    },
    {
      "cell_type": "markdown",
      "metadata": {
        "id": "stTxaM3nIseg"
      },
      "source": [
        "# Areas of smooth measures on $\\mathbf{S}^{2}$"
      ]
    },
    {
      "cell_type": "markdown",
      "metadata": {
        "id": "1cMxjhWTJH8B"
      },
      "source": [
        "Let $(\\theta,\\phi) \\in (0,\\pi) \\times (0,2\\pi)$ be spherical coordinates on the 2-sphere $\\mathbf{S}^{2}$ such that $ (\\theta, \\phi) \\mapsto (\\sin{\\theta}\\cos{\\phi}, \\sin{\\theta}\\sin{\\phi}, \\cos{\\theta})$.\n",
        "\n",
        "Consider $(\\mathbf{S}^{2}, \\pi_{0} = \\frac{1}{\\sin{\\theta}}\\frac{\\partial}{\\partial \\theta} \\wedge \\frac{\\partial}{\\partial \\phi})$ and a measure $\\mu_{\\rho} \\in P^{\\infty}(\\mathbf{S}^{2})$. Let the maps $T_{s},R_{t}: \\mathbf{S}^{2} \\to \\mathbf{S}^{2}$ be generated by flows of hamiltonian vector fields on $\\mathbf{S}^{2}$ with $s \\in I_{1} \\subset (0,\\pi)$ and $t \\in I_{2} \\subset (0,2\\pi)$.\n",
        "\n",
        "\n",
        "The symplectic area  $A_{\\mu_{\\rho}}(\\Omega)$ of the finite region $\\Omega := (T_{s} \\circ R_{t})^{\\ast}\\mu_{\\rho}$ on $P^{\\infty}(\\mathbf{S}^{2})$ can be calculated by\n",
        "\n",
        "\\begin{align}\n",
        "    A_{\\mu_{\\rho}}(\\Omega) &= \\frac{1}{4\\pi}\\int_{I_{2}}\\int_{I_{1}}\\int_{0}^{2\\pi}\\int_{0}^{\\pi} (T_{s} \\circ R_{t})^{\\ast}\\rho \\,\\mathrm{d}{\\theta}\\mathrm{d}{\\phi}\\mathrm{d}{s}\\mathrm{d}{t}\n",
        "\\end{align}"
      ]
    },
    {
      "cell_type": "markdown",
      "metadata": {
        "id": "upbheyYVgRSm"
      },
      "source": [
        "## Example"
      ]
    },
    {
      "cell_type": "code",
      "metadata": {
        "id": "OW5ESvJJlo_X"
      },
      "source": [
        "import numpy as np"
      ],
      "execution_count": 47,
      "outputs": []
    },
    {
      "cell_type": "code",
      "metadata": {
        "colab": {
          "base_uri": "https://localhost:8080/"
        },
        "id": "_9GLvrPQhHjt",
        "outputId": "54681eb4-59b8-4c12-bade-5947861f0411"
      },
      "source": [
        "I_1 = [np.pi/4, 3*np.pi/4]\n",
        "I_2 = [np.pi/4, 3*np.pi/4]\n",
        "\n",
        "da.area_Omega_S2(\"sin(theta) * cos(phi)\", I_1, I_2)"
      ],
      "execution_count": 48,
      "outputs": [
        {
          "output_type": "execute_result",
          "data": {
            "text/plain": [
              "(1.7121034453173723e-16, 1.9008166655314043e-30)"
            ]
          },
          "metadata": {
            "tags": []
          },
          "execution_count": 48
        }
      ]
    }
  ]
}